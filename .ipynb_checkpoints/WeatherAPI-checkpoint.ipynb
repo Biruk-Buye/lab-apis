{
 "cells": [
  {
   "cell_type": "code",
   "execution_count": 537,
   "id": "6d7a4acc-cfd0-44c7-ac1a-7e19be53eef9",
   "metadata": {},
   "outputs": [],
   "source": [
    "KEY = \"7461c3c1f945c72cdc18b5b0e3e2c461\""
   ]
  },
  {
   "cell_type": "code",
   "execution_count": 539,
   "id": "45d2c56b-d380-4fa6-bd82-36eefb48112f",
   "metadata": {},
   "outputs": [],
   "source": [
    "import json"
   ]
  },
  {
   "cell_type": "code",
   "execution_count": 541,
   "id": "bea5ae06-c106-45c8-8d17-905bb01604ca",
   "metadata": {},
   "outputs": [],
   "source": [
    "import requests"
   ]
  },
  {
   "cell_type": "code",
   "execution_count": 543,
   "id": "71316d5a-8d7c-49b3-b094-29680da58270",
   "metadata": {},
   "outputs": [],
   "source": [
    "from dotenv import load_dotenv\n",
    "import os "
   ]
  },
  {
   "cell_type": "code",
   "execution_count": 545,
   "id": "e4050cc5-7843-4d60-97df-9b2bb7e271d0",
   "metadata": {},
   "outputs": [],
   "source": [
    "from datetime import datetime"
   ]
  },
  {
   "cell_type": "code",
   "execution_count": 547,
   "id": "b4ec1c7f-ac64-4ec4-a791-b9173af92e8c",
   "metadata": {},
   "outputs": [
    {
     "name": "stdout",
     "output_type": "stream",
     "text": [
      "Requirement already satisfied: requests in /Applications/anaconda/anaconda3/lib/python3.12/site-packages (2.32.2)\n",
      "Requirement already satisfied: charset-normalizer<4,>=2 in /Applications/anaconda/anaconda3/lib/python3.12/site-packages (from requests) (2.0.4)\n",
      "Requirement already satisfied: idna<4,>=2.5 in /Applications/anaconda/anaconda3/lib/python3.12/site-packages (from requests) (3.7)\n",
      "Requirement already satisfied: urllib3<3,>=1.21.1 in /Applications/anaconda/anaconda3/lib/python3.12/site-packages (from requests) (2.2.2)\n",
      "Requirement already satisfied: certifi>=2017.4.17 in /Applications/anaconda/anaconda3/lib/python3.12/site-packages (from requests) (2024.7.4)\n",
      "Note: you may need to restart the kernel to use updated packages.\n"
     ]
    }
   ],
   "source": [
    "pip install requests"
   ]
  },
  {
   "cell_type": "code",
   "execution_count": 597,
   "id": "48eb6ac3-81bf-4969-835b-0319d7a5007e",
   "metadata": {},
   "outputs": [
    {
     "data": {
      "text/plain": [
       "{'coord': {'lon': 12, 'lat': 23},\n",
       " 'weather': [{'id': 800,\n",
       "   'main': 'Clear',\n",
       "   'description': 'clear sky',\n",
       "   'icon': '01n'}],\n",
       " 'base': 'stations',\n",
       " 'main': {'temp': 300.48,\n",
       "  'feels_like': 299.53,\n",
       "  'temp_min': 300.48,\n",
       "  'temp_max': 300.48,\n",
       "  'pressure': 1013,\n",
       "  'humidity': 23,\n",
       "  'sea_level': 1013,\n",
       "  'grnd_level': 918},\n",
       " 'visibility': 10000,\n",
       " 'wind': {'speed': 4.82, 'deg': 45, 'gust': 7.11},\n",
       " 'clouds': {'all': 0},\n",
       " 'dt': 1727890550,\n",
       " 'sys': {'sunrise': 1727845433, 'sunset': 1727888306},\n",
       " 'timezone': 3600,\n",
       " 'id': 0,\n",
       " 'name': '',\n",
       " 'cod': 200}"
      ]
     },
     "execution_count": 597,
     "metadata": {},
     "output_type": "execute_result"
    }
   ],
   "source": [
    "url.json()"
   ]
  },
  {
   "cell_type": "code",
   "execution_count": 599,
   "id": "5b132fbb-cfbf-4206-84ec-9d4839278840",
   "metadata": {},
   "outputs": [
    {
     "name": "stdin",
     "output_type": "stream",
     "text": [
      "latitud 23\n",
      "longitud 12\n"
     ]
    },
    {
     "name": "stdout",
     "output_type": "stream",
     "text": [
      "The weather in latitud 23,longitud 12 is 300 °C with clear sky\n",
      "It feels like 300 °C \n",
      "Today's high is 300 °C and today's Low is 300 \n"
     ]
    }
   ],
   "source": [
    "while True:\n",
    "    lat = input(\"latitud\")\n",
    "    lon = input('longitud')\n",
    "    \n",
    "    url = requests.get(f'https://api.openweathermap.org/data/2.5/weather?lat={lat}&lon={lon}&appid={KEY}')\n",
    "    if url.json()['cod']=='404':\n",
    "        print(\"Invalid latitud\")\n",
    "        continue\n",
    "    break\n",
    "    \n",
    "description = url.json()['weather'][0]['description']\n",
    "temprature = round(url.json()['main']['temp'])\n",
    "feels_like = round(url.json()['main']['feels_like'])\n",
    "high = round(url.json()['main']['temp_max'])\n",
    "low = round(url.json()['main']['temp_min'])\n",
    "\n",
    "print(f'The weather in latitud {lat},longitud {lon} is {temprature} °C with {description}')\n",
    "print(f'It feels like {feels_like} °C ')\n",
    "print(f\"Today's high is {high} °C and today's Low is {low} \")  "
   ]
  },
  {
   "cell_type": "code",
   "execution_count": null,
   "id": "719069c1-9e10-4be1-b1e9-7771d927d24d",
   "metadata": {},
   "outputs": [],
   "source": []
  },
  {
   "cell_type": "code",
   "execution_count": null,
   "id": "bee5ff8f-a7d7-4b63-972d-8139482660a9",
   "metadata": {},
   "outputs": [],
   "source": []
  },
  {
   "cell_type": "code",
   "execution_count": null,
   "id": "bd381431-5f01-414c-827d-263932dd53dc",
   "metadata": {},
   "outputs": [],
   "source": []
  },
  {
   "cell_type": "code",
   "execution_count": null,
   "id": "fad9ff18-d2c3-45d8-aafa-6f87ca49c9d8",
   "metadata": {},
   "outputs": [],
   "source": []
  }
 ],
 "metadata": {
  "kernelspec": {
   "display_name": "Python 3 (ipykernel)",
   "language": "python",
   "name": "python3"
  },
  "language_info": {
   "codemirror_mode": {
    "name": "ipython",
    "version": 3
   },
   "file_extension": ".py",
   "mimetype": "text/x-python",
   "name": "python",
   "nbconvert_exporter": "python",
   "pygments_lexer": "ipython3",
   "version": "3.12.4"
  }
 },
 "nbformat": 4,
 "nbformat_minor": 5
}
