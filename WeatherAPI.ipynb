{
 "cells": [
  {
   "cell_type": "code",
   "execution_count": 10,
   "id": "6d7a4acc-cfd0-44c7-ac1a-7e19be53eef9",
   "metadata": {},
   "outputs": [],
   "source": [
    "KEY = \"7461c3c1f945c72cdc18b5b0e3e2c461\""
   ]
  },
  {
   "cell_type": "code",
   "execution_count": 12,
   "id": "45d2c56b-d380-4fa6-bd82-36eefb48112f",
   "metadata": {},
   "outputs": [],
   "source": [
    "import json"
   ]
  },
  {
   "cell_type": "code",
   "execution_count": 14,
   "id": "bea5ae06-c106-45c8-8d17-905bb01604ca",
   "metadata": {},
   "outputs": [],
   "source": [
    "import requests"
   ]
  },
  {
   "cell_type": "code",
   "execution_count": 16,
   "id": "71316d5a-8d7c-49b3-b094-29680da58270",
   "metadata": {},
   "outputs": [],
   "source": [
    "from dotenv import load_dotenv\n",
    "import os "
   ]
  },
  {
   "cell_type": "code",
   "execution_count": 18,
   "id": "e4050cc5-7843-4d60-97df-9b2bb7e271d0",
   "metadata": {},
   "outputs": [],
   "source": [
    "from datetime import datetime"
   ]
  },
  {
   "cell_type": "code",
   "execution_count": 26,
   "id": "b4ec1c7f-ac64-4ec4-a791-b9173af92e8c",
   "metadata": {},
   "outputs": [
    {
     "name": "stdout",
     "output_type": "stream",
     "text": [
      "Requirement already satisfied: requests in /Applications/anaconda/anaconda3/lib/python3.12/site-packages (2.32.2)\n",
      "Requirement already satisfied: charset-normalizer<4,>=2 in /Applications/anaconda/anaconda3/lib/python3.12/site-packages (from requests) (2.0.4)\n",
      "Requirement already satisfied: idna<4,>=2.5 in /Applications/anaconda/anaconda3/lib/python3.12/site-packages (from requests) (3.7)\n",
      "Requirement already satisfied: urllib3<3,>=1.21.1 in /Applications/anaconda/anaconda3/lib/python3.12/site-packages (from requests) (2.2.2)\n",
      "Requirement already satisfied: certifi>=2017.4.17 in /Applications/anaconda/anaconda3/lib/python3.12/site-packages (from requests) (2024.7.4)\n",
      "Note: you may need to restart the kernel to use updated packages.\n"
     ]
    }
   ],
   "source": [
    "pip install requests"
   ]
  },
  {
   "cell_type": "code",
   "execution_count": 32,
   "id": "48eb6ac3-81bf-4969-835b-0319d7a5007e",
   "metadata": {},
   "outputs": [
    {
     "data": {
      "text/plain": [
       "{'coord': {'lon': 75, 'lat': 54},\n",
       " 'weather': [{'id': 801,\n",
       "   'main': 'Clouds',\n",
       "   'description': 'few clouds',\n",
       "   'icon': '02n'}],\n",
       " 'base': 'stations',\n",
       " 'main': {'temp': 279.38,\n",
       "  'feels_like': 277.01,\n",
       "  'temp_min': 279.38,\n",
       "  'temp_max': 279.38,\n",
       "  'pressure': 1031,\n",
       "  'humidity': 60,\n",
       "  'sea_level': 1031,\n",
       "  'grnd_level': 1018},\n",
       " 'visibility': 10000,\n",
       " 'wind': {'speed': 3.18, 'deg': 277, 'gust': 4.01},\n",
       " 'clouds': {'all': 16},\n",
       " 'dt': 1727981681,\n",
       " 'sys': {'country': 'RU', 'sunrise': 1728004043, 'sunset': 1728044986},\n",
       " 'timezone': 21600,\n",
       " 'id': 1508138,\n",
       " 'name': 'Cherlak',\n",
       " 'cod': 200}"
      ]
     },
     "execution_count": 32,
     "metadata": {},
     "output_type": "execute_result"
    }
   ],
   "source": [
    "url.json()"
   ]
  },
  {
   "cell_type": "code",
   "execution_count": 28,
   "id": "5b132fbb-cfbf-4206-84ec-9d4839278840",
   "metadata": {},
   "outputs": [
    {
     "name": "stdin",
     "output_type": "stream",
     "text": [
      "latitud 54\n",
      "longitud 75\n"
     ]
    },
    {
     "name": "stdout",
     "output_type": "stream",
     "text": [
      "The weather in latitud 54,longitud 75 is 279 °C with few clouds\n",
      "It feels like 277 °C \n",
      "Today's high is 279 °C and today's Low is 279 \n"
     ]
    }
   ],
   "source": [
    "while True:\n",
    "    lat = input(\"latitud\")\n",
    "    lon = input('longitud')\n",
    "    \n",
    "    url = requests.get(f'https://api.openweathermap.org/data/2.5/weather?lat={lat}&lon={lon}&appid={KEY}')\n",
    "    if url.json()['cod']=='404':\n",
    "        print(\"Invalid latitud\")\n",
    "        continue\n",
    "    break\n",
    "    \n",
    "description = url.json()['weather'][0]['description']\n",
    "temprature = round(url.json()['main']['temp'])\n",
    "feels_like = round(url.json()['main']['feels_like'])\n",
    "high = round(url.json()['main']['temp_max'])\n",
    "low = round(url.json()['main']['temp_min'])\n",
    "\n",
    "print(f'The weather in latitud {lat},longitud {lon} is {temprature} °C with {description}')\n",
    "print(f'It feels like {feels_like} °C ')\n",
    "print(f\"Today's high is {high} °C and today's Low is {low} \")  "
   ]
  },
  {
   "cell_type": "code",
   "execution_count": null,
   "id": "bee5ff8f-a7d7-4b63-972d-8139482660a9",
   "metadata": {},
   "outputs": [],
   "source": []
  },
  {
   "cell_type": "code",
   "execution_count": null,
   "id": "bd381431-5f01-414c-827d-263932dd53dc",
   "metadata": {},
   "outputs": [],
   "source": []
  },
  {
   "cell_type": "code",
   "execution_count": null,
   "id": "fad9ff18-d2c3-45d8-aafa-6f87ca49c9d8",
   "metadata": {},
   "outputs": [],
   "source": []
  }
 ],
 "metadata": {
  "kernelspec": {
   "display_name": "Python 3 (ipykernel)",
   "language": "python",
   "name": "python3"
  },
  "language_info": {
   "codemirror_mode": {
    "name": "ipython",
    "version": 3
   },
   "file_extension": ".py",
   "mimetype": "text/x-python",
   "name": "python",
   "nbconvert_exporter": "python",
   "pygments_lexer": "ipython3",
   "version": "3.12.4"
  }
 },
 "nbformat": 4,
 "nbformat_minor": 5
}
